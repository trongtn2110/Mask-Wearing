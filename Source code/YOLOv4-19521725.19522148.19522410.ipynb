{
  "nbformat": 4,
  "nbformat_minor": 0,
  "metadata": {
    "colab": {
      "name": "Untitled6.ipynb",
      "provenance": [],
      "collapsed_sections": []
    },
    "kernelspec": {
      "name": "python3",
      "display_name": "Python 3"
    },
    "language_info": {
      "name": "python"
    },
    "accelerator": "GPU"
  },
  "cells": [
    {
      "cell_type": "code",
      "metadata": {
        "id": "UaYgV06zx2yv",
        "colab": {
          "base_uri": "https://localhost:8080/"
        },
        "outputId": "f22a8d35-e314-4d25-9f83-fa638125ceb6"
      },
      "source": [
        "# Step 1. Mount drive \n",
        "from google.colab import drive\n",
        "drive.mount('/content/gdrive')"
      ],
      "execution_count": null,
      "outputs": [
        {
          "output_type": "stream",
          "text": [
            "Mounted at /content/gdrive\n"
          ],
          "name": "stdout"
        }
      ]
    },
    {
      "cell_type": "code",
      "metadata": {
        "id": "6AHS7aYozELT"
      },
      "source": [
        "# Step 2. Tai ma nguon YOLO ve drive\n",
        "!rm -rf darknet\n",
        "%cd /content/gdrive/MyDrive\n",
        "!git clone https://github.com/AlexeyAB/darknet\n",
        "%cd /content/gdrive/MyDrive/darknet\n",
        "!rm -rf data\n",
        "!mkdir data"
      ],
      "execution_count": null,
      "outputs": []
    },
    {
      "cell_type": "code",
      "metadata": {
        "id": "1nE96jzHZJfr"
      },
      "source": [
        "# Step 3: Download các file cần thiết\n",
        "import gdown\n",
        "%cd /content/gdrive/MyDrive/darknet/data\n",
        "# Download Training_Image tại https://drive.google.com/file/d/1WlKEoVdTknDrYSGw7mISBbdm-YQmM7eA\n",
        "!gdown --id 1WlKEoVdTknDrYSGw7mISBbdm-YQmM7eA\n",
        "# Download Training_Label tại \n",
        "!gdown --id 1lEsMz38ccPFVkm36voed9SUIgNBQcBFd"
      ],
      "execution_count": null,
      "outputs": []
    },
    {
      "cell_type": "code",
      "metadata": {
        "id": "GqflbklQZHpi"
      },
      "source": [
        "%cd /content/gdrive/MyDrive/darknet\n",
        "#download Makefile\n",
        "!gdown --id 1tPGWplAcQabBPGb4jaOtjOF7wamaE49c\n",
        "# Download Predict.txt (Danh sách các file ảnh Test)\n",
        "!gdown --id 1eHylqQiNe66JYdriTwbj_qZCkqqLYjeN\n",
        "# Download test video \n",
        "!gdown --id 1vkfBPyz0zLJY3w3D4SX5Lpjo9MZxI3UL\n",
        "\n",
        "!mkdir Testingset\n",
        "%cd /content/gdrive/MyDrive/darknet/Testingset\n",
        "# Download Testing set \n",
        "!gdown --id 1V7NNlKDinluICAbbFEuLRaph1ebiFJPu\n",
        "# Giải nén Testing set\n",
        "!unzip Testimg.zip"
      ],
      "execution_count": null,
      "outputs": []
    },
    {
      "cell_type": "code",
      "metadata": {
        "id": "Oef1lg3kRsCO"
      },
      "source": [
        "%cd /content/gdrive/MyDrive/darknet/cfg\n",
        "#download yolov4-custom.cfg (Dùng cho quá trình training)\n",
        "!gdown --id 12eAyFtJw1Mt4rvem185fZZx3cUNP229T\n",
        "#download  yolov4-custompredict.cfg (Dùng cho quá trình dự đoán trên testing set. Resize ảnh thành 832*832 để tăng độ chính xác)\n",
        "!gdown --id 1SxhBPxRDcCKKzNek5MSVTFX7Up-LVAlh"
      ],
      "execution_count": null,
      "outputs": []
    },
    {
      "cell_type": "code",
      "metadata": {
        "id": "8sWWCyzn_1_j"
      },
      "source": [
        "# Step 4: Giải nén Training set\n",
        "%cd /content/gdrive/My\\ Drive/darknet/data\n",
        "!unzip Trainimg.zip\n",
        "!unzip Trainlabel_txt.zip"
      ],
      "execution_count": null,
      "outputs": []
    },
    {
      "cell_type": "code",
      "metadata": {
        "id": "V1SSV_hF2U-L",
        "colab": {
          "base_uri": "https://localhost:8080/"
        },
        "outputId": "29471369-bd52-4fbe-bd96-1a4f473c1509"
      },
      "source": [
        "# Step 5: Tạo file yolo.names chứa tên các class\n",
        "%cd /content/gdrive/My\\ Drive/darknet\n",
        "!echo \"Correct\" > yolo.names\n",
        "!echo \"No-mask\" >> yolo.names\n",
        "!echo \"Incorrect\" >> yolo.names"
      ],
      "execution_count": null,
      "outputs": [
        {
          "output_type": "stream",
          "text": [
            "/content/gdrive/My Drive/darknet\n"
          ],
          "name": "stdout"
        }
      ]
    },
    {
      "cell_type": "code",
      "metadata": {
        "id": "DFh_d6tk3PWc"
      },
      "source": [
        "# Step 6. Download file train.txt và val.txt (Danh sách các file ảnh train và validation)\n",
        "%cd /content/gdrive/My\\ Drive/darknet\n",
        "#download train.txt\n",
        "!gdown --id 1IGTVUK-9cbekc-x40PvnMWruMOoeBv1C \n",
        "#download val.txt\n",
        "!gdown --id 1Vg4I4iOGtcQHIkWy3jRGAu87HHOThx33"
      ],
      "execution_count": null,
      "outputs": []
    },
    {
      "cell_type": "code",
      "metadata": {
        "id": "8fbvYKrz4KYz"
      },
      "source": [
        "# Step 7. Tạo file yolo.data chứa các tham số mà yolo cần \n",
        "%cd /content/gdrive/MyDrive/darknet\n",
        "!mkdir backup\n",
        "!echo classes=3 > yolo.data\n",
        "!echo train=train.txt >> yolo.data\n",
        "!echo valid=val.txt >> yolo.data\n",
        "!echo names=yolo.names >> yolo.data\n",
        "!echo backup=backup >> yolo.data"
      ],
      "execution_count": null,
      "outputs": []
    },
    {
      "cell_type": "code",
      "metadata": {
        "id": "mEfhfICU4Ul1"
      },
      "source": [
        "# Step 8. Make darknet\n",
        "%cd /content/gdrive/My\\ Drive/darknet\n",
        "!rm darknet\n",
        "!make"
      ],
      "execution_count": null,
      "outputs": []
    },
    {
      "cell_type": "code",
      "metadata": {
        "id": "EXW6b0-75SBj"
      },
      "source": [
        "# Step 9. Download pretrain weight\n",
        "%cd /content/gdrive/My\\ Drive/darknet\n",
        "!wget https://github.com/AlexeyAB/darknet/releases/download/darknet_yolo_v3_optimal/yolov4.conv.137"
      ],
      "execution_count": null,
      "outputs": []
    },
    {
      "cell_type": "code",
      "metadata": {
        "id": "sF05LFKS5Wic"
      },
      "source": [
        "# Step 10. Train\n",
        "%cd /content/gdrive/MyDrive/darknet\n",
        "!./darknet detector train yolo.data cfg/yolov4-custom.cfg yolov4.conv.137 -dont_show -map"
      ],
      "execution_count": null,
      "outputs": []
    },
    {
      "cell_type": "code",
      "metadata": {
        "id": "krmc-meymdhf"
      },
      "source": [
        "# Step 11: Tiếp tục train từ weight cuối cùng \n",
        "%cd /content/gdrive/MyDrive/darknet\n",
        "!./darknet detector train yolo.data cfg/yolov4-custom.cfg backup/yolov4-custom_last.weights -dont_show -map"
      ],
      "execution_count": null,
      "outputs": []
    },
    {
      "cell_type": "code",
      "metadata": {
        "id": "qNTngUeyDSQ1"
      },
      "source": [
        "# Predict folder ảnh xuất kết quả ra file result.txt\n",
        "%cd /content/gdrive/MyDrive/darknet\n",
        "!./darknet detector test yolo.data cfg/yolov4-custompredict.cfg backup/yolov4-custom_best.weights -dont_show -ext_output  < predict.txt > result.txt"
      ],
      "execution_count": null,
      "outputs": []
    },
    {
      "cell_type": "code",
      "metadata": {
        "id": "1ByYExu77-D-"
      },
      "source": [
        "# Đánh giá Avg FPS của model trên video\n",
        "%cd /content/gdrive/MyDrive/darknet\n",
        "!./darknet detector demo yolo.data cfg/yolov4-custompredict.cfg backup/yolov4-custom_best.weights test.mp4 -dont_show -ext_output"
      ],
      "execution_count": null,
      "outputs": []
    },
    {
      "cell_type": "code",
      "metadata": {
        "id": "QpYwZd3Uni8r"
      },
      "source": [
        "# Áp dụng model lên video và lưu lại kết quả\n",
        "%cd /content/gdrive/MyDrive/darknet\n",
        "!./darknet detector demo yolo.data cfg/yolov4-custompredict.cfg backup/yolov4-custom_best.weights test.mp4 -i 0 -out_filename results.mp4"
      ],
      "execution_count": null,
      "outputs": []
    }
  ]
}